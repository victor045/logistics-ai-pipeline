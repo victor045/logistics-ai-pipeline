
Este notebook contiene:

1. 📥 Carga y visualización del archivo `deliveries.csv`
2. 📊 Análisis exploratorio por código postal
3. 📈 Modelado con Prophet para una zona seleccionada (ej. '01000')
4. 🧪 Visualización de la predicción y ajuste del modelo
5. 💾 Guardado opcional del modelo y forecast en archivos separados

Ejemplo de código:
```python
import pandas as pd
from prophet import Prophet
import matplotlib.pyplot as plt

# Cargar datos
df = pd.read_csv('../data/deliveries.csv')
df['date'] = pd.to_datetime(df['date'])

# Filtrar zona específica
zone = '01000'
df_zone = df[df['postal_code'] == zone][['date', 'deliveries']].rename(columns={'date': 'ds', 'deliveries': 'y'})

# Entrenar modelo
model = Prophet(daily_seasonality=True)
model.fit(df_zone)

# Predecir
future = model.make_future_dataframe(periods=7)
forecast = model.predict(future)

# Visualizar
fig = model.plot(forecast)
plt.title(f"Forecast para código postal {zone}")
plt.show()
```

